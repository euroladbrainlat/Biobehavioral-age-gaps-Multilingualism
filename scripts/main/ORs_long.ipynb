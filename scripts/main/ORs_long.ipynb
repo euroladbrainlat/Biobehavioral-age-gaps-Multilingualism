{
 "cells": [
  {
   "cell_type": "code",
   "execution_count": 1,
   "id": "f67a47d9-8778-4db5-94be-173846cbd6dc",
   "metadata": {},
   "outputs": [],
   "source": [
    "import os\n",
    "import numpy as np\n",
    "from matplotlib.lines import Line2D\n",
    "from scipy.stats import pearsonr, gaussian_kde, linregress, ttest_ind, sem, zscore\n",
    "from sklearn.metrics import r2_score, mean_squared_error\n",
    "from scipy.stats import norm\n",
    "from scipy.stats import percentileofscore\n",
    "from sklearn.utils.validation import check_random_state\n",
    "from math import factorial\n",
    "from more_itertools import distinct_permutations\n",
    "import statsmodels.api as sm\n",
    "\n",
    "import matplotlib.pyplot as plt\n",
    "\n",
    "import pandas as pd\n",
    "from sklearn.model_selection import KFold, train_test_split, StratifiedKFold\n",
    "from sklearn.metrics import r2_score, mean_absolute_error, mean_squared_error\n",
    "from sklearn.linear_model import LinearRegression\n",
    "import statsmodels.api as sm\n",
    "from scipy import stats\n",
    "\n",
    "import numpy as np\n",
    "from scipy.stats import linregress\n",
    "from scipy.stats import pearsonr\n",
    "import matplotlib.pyplot as plt\n",
    "\n",
    "from sklearn.metrics import r2_score, mean_squared_error\n",
    "from sklearn.model_selection import KFold, ParameterGrid, train_test_split\n",
    "from tqdm.notebook import tqdm\n",
    "\n",
    "import warnings\n",
    "import random\n",
    "#from torch.utils.data import SubsetRandomSampler\n",
    "from sklearn.utils import resample\n",
    "\n",
    "from sklearn.preprocessing import MinMaxScaler\n",
    "\n",
    "\n",
    "warnings.filterwarnings(\"ignore\")\n",
    "\n"
   ]
  },
  {
   "cell_type": "markdown",
   "id": "794b0264-ed25-4657-8942-47b1e1e26af9",
   "metadata": {},
   "source": [
    "## Load data"
   ]
  },
  {
   "cell_type": "code",
   "execution_count": 2,
   "id": "fd699022-b5ce-4098-a5c8-cef93fec309d",
   "metadata": {},
   "outputs": [],
   "source": [
    "data = pd.read_csv('data/BAG_OR_long.csv', index_col=0)"
   ]
  },
  {
   "cell_type": "code",
   "execution_count": 3,
   "id": "e00dd336-570a-4863-8c9c-e9aaf8cd55c5",
   "metadata": {},
   "outputs": [],
   "source": [
    "vars_ = ['Mono', 'One',\t'Two',\t'Three', 'Total']\n"
   ]
  },
  {
   "cell_type": "markdown",
   "id": "0da01889-bf76-4bb4-9e3b-de9c0d5ea14b",
   "metadata": {},
   "source": [
    "# Odds ratios"
   ]
  },
  {
   "cell_type": "markdown",
   "id": "0993fa9c-3a22-4278-a618-1b62601dcd75",
   "metadata": {},
   "source": [
    "## Without co-vars"
   ]
  },
  {
   "cell_type": "code",
   "execution_count": 4,
   "id": "a5871d2b-34ba-4ba2-91ea-daa5273b92e6",
   "metadata": {
    "scrolled": true
   },
   "outputs": [],
   "source": [
    "results_merge_df_all = data.copy()\n",
    "\n",
    "results_merge_df_all = results_merge_df_all.loc[:, ~results_merge_df_all.columns.duplicated()]\n",
    "\n",
    "df_directions_odd = pd.DataFrame()\n",
    "\n",
    "for i in vars_:\n",
    "    \n",
    "    y_ols = results_merge_df_all['GAP_bin']\n",
    "\n",
    "    \n",
    "    X_ols = results_merge_df_all[[i] + ['delta_time']]\n",
    "    X_train, X_test, y_train, y_test = train_test_split(X_ols, y_ols, test_size=0.2, random_state=42)\n",
    "    \n",
    "\n",
    "    scaler = MinMaxScaler((0.05, 0.95))\n",
    "    X_train_scaled = scaler.fit_transform(X_train)\n",
    "    X_train_scaled = pd.DataFrame(X_train_scaled, columns=X_train.columns, index=X_train.index)\n",
    "    \n",
    "    X_test_scaled = scaler.transform(X_test)\n",
    "    X_test_scaled = pd.DataFrame(X_test_scaled, columns=X_test.columns, index=X_test.index)\n",
    "    \n",
    "    X_train_scaled['intercept'] = 1\n",
    "    X_test_scaled['intercept'] = 1\n",
    "    \n",
    "    model = sm.GLM(y_train, X_train_scaled, family=sm.families.Binomial(link=sm.families.links.log())).fit()\n",
    "    \n",
    "    params = model.params\n",
    "    conf = np.exp(model.conf_int())\n",
    "    conf['RR'] = np.exp(params)\n",
    "    conf['z'] =model.tvalues\n",
    "    conf['P>|z|'] =model.pvalues\n",
    "    conf.columns = ['2.5%', '97.5%', 'RR', 'z', 'P>|z|']\n",
    "    \n",
    "    df = conf.loc[i:i]\n",
    "    df['Feature'] = i\n",
    "    df_directions_odd = pd.concat([df_directions_odd, df])\n",
    "\n",
    "df_directions_odd = df_directions_odd.reset_index(drop=True)\n"
   ]
  },
  {
   "cell_type": "code",
   "execution_count": null,
   "id": "92dafccb-a6eb-4362-92da-36499799ad5f",
   "metadata": {},
   "outputs": [],
   "source": []
  },
  {
   "cell_type": "markdown",
   "id": "456b8f59-faee-49ad-9213-03aff611ab61",
   "metadata": {},
   "source": [
    "## Odd ratios with macrosocials"
   ]
  },
  {
   "cell_type": "code",
   "execution_count": 5,
   "id": "6922b411-f7c5-4fc4-a305-2dc90d60fdb0",
   "metadata": {},
   "outputs": [],
   "source": [
    "vars_social_physical = ['gender_equal_l', 'Polution_conc_inv', 'Eq']\n",
    "\n",
    "vars_sociopolitical = ['free_parties_l',  'inclu_suff_est', 'cred_elect_est', 'local_dem_est']"
   ]
  },
  {
   "cell_type": "code",
   "execution_count": 6,
   "id": "6c3dcae3-738a-4d12-9b76-30d8d41f7452",
   "metadata": {},
   "outputs": [],
   "source": [
    "results_merge_df_all = data.copy()\n",
    "\n",
    "\n",
    "\n",
    "count = 1\n",
    "for covar in ['total_exposomes', 'sociopolitical', 'social_physical', 'GDP', 'number_leng_inst', 'number_stable_inst', 'distance', 'Migration'] + vars_social_physical + vars_sociopolitical:\n",
    "    df_directions_odd = pd.DataFrame()\n",
    "    df_directions_cov_odd = pd.DataFrame()\n",
    "    for i in vars_:\n",
    "        \n",
    "        y_ols = results_merge_df_all['GAP_bin']\n",
    "    \n",
    "        \n",
    "        X_ols = results_merge_df_all[[i] + [covar] + ['delta_time']]\n",
    "        X_train, X_test, y_train, y_test = train_test_split(X_ols, y_ols, test_size=0.2, random_state=42)\n",
    "        \n",
    "\n",
    "        scaler = MinMaxScaler((0.05, 0.95))\n",
    "        X_train_scaled = scaler.fit_transform(X_train)\n",
    "        X_train_scaled = pd.DataFrame(X_train_scaled, columns=X_train.columns, index=X_train.index)\n",
    "        \n",
    "        X_test_scaled = scaler.transform(X_test)\n",
    "        X_test_scaled = pd.DataFrame(X_test_scaled, columns=X_test.columns, index=X_test.index)\n",
    "        \n",
    "        X_train_scaled['intercept'] = 1\n",
    "        X_test_scaled['intercept'] = 1\n",
    "        \n",
    "        model = sm.GLM(y_train, X_train_scaled, family=sm.families.Binomial(link=sm.families.links.log())).fit()\n",
    "        \n",
    "        params = model.params\n",
    "        conf = np.exp(model.conf_int())\n",
    "        conf['RR'] = np.exp(params)\n",
    "        conf['z'] =model.tvalues\n",
    "        conf['P>|z|'] =model.pvalues\n",
    "        conf.columns = ['2.5%', '97.5%', 'RR', 'z', 'P>|z|']\n",
    "        \n",
    "        df = conf.loc[i:i]\n",
    "        df['Feature'] = i\n",
    "        df_directions_odd = pd.concat([df_directions_odd, df])\n",
    "\n",
    "        \n",
    "        df_covar = conf.loc[covar:covar]\n",
    "        df_covar['Feature'] = i + '('+covar + ')'\n",
    "        df_directions_cov_odd = pd.concat([df_directions_cov_odd, df_covar])\n",
    "        \n",
    "    df_directions_odd = df_directions_odd.reset_index(drop=True)\n",
    "    df_directions_cov_odd = df_directions_cov_odd.reset_index(drop=True)\n",
    "    \n"
   ]
  },
  {
   "cell_type": "code",
   "execution_count": null,
   "id": "d2cce20d-c958-4fb5-8f4f-3a24380a2b56",
   "metadata": {},
   "outputs": [],
   "source": []
  }
 ],
 "metadata": {
  "kernelspec": {
   "display_name": "Python 3 (ipykernel)",
   "language": "python",
   "name": "python3"
  },
  "language_info": {
   "codemirror_mode": {
    "name": "ipython",
    "version": 3
   },
   "file_extension": ".py",
   "mimetype": "text/x-python",
   "name": "python",
   "nbconvert_exporter": "python",
   "pygments_lexer": "ipython3",
   "version": "3.8.18"
  }
 },
 "nbformat": 4,
 "nbformat_minor": 5
}
